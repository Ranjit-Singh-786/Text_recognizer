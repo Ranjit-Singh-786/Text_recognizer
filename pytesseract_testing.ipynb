{
 "cells": [
  {
   "cell_type": "markdown",
   "metadata": {},
   "source": [
    "### Tesseract installer link \n",
    "<a href=\"https://github.com/UB-Mannheim/tesseract/wiki\">Download link</a>"
   ]
  },
  {
   "cell_type": "code",
   "execution_count": 4,
   "metadata": {},
   "outputs": [
    {
     "name": "stdout",
     "output_type": "stream",
     "text": [
      "The best\n",
      "preparation\n",
      "for tomorrow\n",
      "is doing your\n",
      "best today.\n",
      "\n"
     ]
    }
   ],
   "source": [
    "#CODE TO FETCH THE TEXT FROM IMAGE BUT BEFORE IT DOWNLOAD THE INSTALLER GIVEV ABOVE LINK\n",
    "\n",
    "from PIL import Image\n",
    "import pytesseract as tess \n",
    "tessrect_model_file_path = r\"C:\\Program Files\\Tesseract-OCR\\tesseract.exe\"\n",
    "tess.pytesseract.tesseract_cmd = tessrect_model_file_path\n",
    "\n",
    "\n",
    "\n",
    "# Load the image from file\n",
    "img = Image.open('img3.jpeg')\n",
    "\n",
    "# Use pytesseract to extract text\n",
    "text = tess.image_to_string(img)\n",
    "\n",
    "# Print the extracted text\n",
    "print(text)\n"
   ]
  },
  {
   "cell_type": "code",
   "execution_count": null,
   "metadata": {},
   "outputs": [],
   "source": []
  }
 ],
 "metadata": {
  "kernelspec": {
   "display_name": "Python 3",
   "language": "python",
   "name": "python3"
  },
  "language_info": {
   "codemirror_mode": {
    "name": "ipython",
    "version": 3
   },
   "file_extension": ".py",
   "mimetype": "text/x-python",
   "name": "python",
   "nbconvert_exporter": "python",
   "pygments_lexer": "ipython3",
   "version": "3.12.4"
  }
 },
 "nbformat": 4,
 "nbformat_minor": 2
}
